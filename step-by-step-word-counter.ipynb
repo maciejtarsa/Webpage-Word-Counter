{
 "cells": [
  {
   "cell_type": "markdown",
   "metadata": {},
   "source": [
    "Step by step walkthrough of the methods to extract the counts of most frequently occuring words in a wikipedia entry for United Kingdom."
   ]
  },
  {
   "cell_type": "code",
   "execution_count": 1,
   "metadata": {},
   "outputs": [],
   "source": [
    "# set up a full path for URL\n",
    "url = 'https://en.wikipedia.org/wiki/United_Kingdom'"
   ]
  },
  {
   "cell_type": "code",
   "execution_count": 2,
   "metadata": {},
   "outputs": [],
   "source": [
    "from urllib.request import urlopen\n",
    "# specify the url of the web page\n",
    "source = urlopen(url).read()"
   ]
  },
  {
   "cell_type": "code",
   "execution_count": 3,
   "metadata": {},
   "outputs": [],
   "source": [
    "from bs4 import BeautifulSoup\n",
    "# make a soup \n",
    "soup = BeautifulSoup(source,'lxml')"
   ]
  },
  {
   "cell_type": "code",
   "execution_count": 4,
   "metadata": {},
   "outputs": [],
   "source": [
    "# extract the plain text content from paragraphs\n",
    "text = ''\n",
    "for paragraph in soup.find_all('p'):\n",
    "    text += paragraph.text"
   ]
  },
  {
   "cell_type": "code",
   "execution_count": 5,
   "metadata": {},
   "outputs": [],
   "source": [
    "import nltk\n",
    "# tokenize the words\n",
    "tokens = nltk.word_tokenize(text, language=\"english\")"
   ]
  },
  {
   "cell_type": "code",
   "execution_count": 6,
   "metadata": {},
   "outputs": [
    {
     "name": "stderr",
     "output_type": "stream",
     "text": [
      "[nltk_data] Downloading package stopwords to\n",
      "[nltk_data]     /Users/maciejtarsa/nltk_data...\n",
      "[nltk_data]   Package stopwords is already up-to-date!\n"
     ]
    }
   ],
   "source": [
    "# downloads and prepare the set of stopwords\n",
    "from nltk.corpus import stopwords\n",
    "nltk.download('stopwords')\n",
    "stop_words = set(stopwords.words('english'))\n",
    "# remove stopwords\n",
    "tokens = [word for word in tokens if word.lower() not in stop_words]        "
   ]
  },
  {
   "cell_type": "code",
   "execution_count": 7,
   "metadata": {},
   "outputs": [],
   "source": [
    "# remove punctuation\n",
    "tokens = [word for word in tokens if word.isalpha()]"
   ]
  },
  {
   "cell_type": "code",
   "execution_count": 8,
   "metadata": {},
   "outputs": [],
   "source": [
    "# vectorize tokens - count occurance of each word\n",
    "# an empty dictionary to be returned at the end\n",
    "vectors = {}\n",
    "# iterate through all tokens\n",
    "for token in tokens:\n",
    "    # check if that token already exists in the dictionary\n",
    "    try:\n",
    "        i = vectors[token]\n",
    "        # if it does, increment the count\n",
    "        vectors[token] = i + 1\n",
    "    # otherwise, assign a count of 1\n",
    "    except KeyError:\n",
    "        vectors[token] = 1"
   ]
  },
  {
   "cell_type": "code",
   "execution_count": 9,
   "metadata": {},
   "outputs": [],
   "source": [
    "# only keep the ones with counts over 20\n",
    "vectors_reduced = {key:value for (key,value) in vectors.items() if value >= 20}        "
   ]
  },
  {
   "cell_type": "code",
   "execution_count": 10,
   "metadata": {},
   "outputs": [],
   "source": [
    "import operator\n",
    "# sort the result in descending order\n",
    "vectors_sorted =dict(sorted(vectors_reduced.items(), key=operator.itemgetter(1),reverse=True))"
   ]
  },
  {
   "cell_type": "code",
   "execution_count": 11,
   "metadata": {},
   "outputs": [
    {
     "name": "stdout",
     "output_type": "stream",
     "text": [
      "{'UK': 177, 'per': 128, 'British': 114, 'cent': 114, 'United': 113, 'Kingdom': 104, 'Ireland': 101, 'England': 91, 'Britain': 77, 'Wales': 70, 'Scotland': 68, 'Northern': 64, 'world': 64, 'population': 49, 'Great': 39, 'million': 34, 'first': 34, 'century': 34, 'London': 32, 'people': 29, 'Scottish': 27, 'Welsh': 27, 'English': 26, 'also': 26, 'government': 26, 'around': 26, 'Europe': 25, 'include': 25, 'country': 24, 'countries': 24, 'Union': 24, 'number': 24, 'largest': 23, 'including': 22, 'European': 21, 'Irish': 20, 'international': 20, 'one': 20, 'national': 20}\n"
     ]
    }
   ],
   "source": [
    "# print the response\n",
    "print(vectors_sorted)"
   ]
  }
 ],
 "metadata": {
  "kernelspec": {
   "display_name": "Python 3",
   "language": "python",
   "name": "python3"
  },
  "language_info": {
   "codemirror_mode": {
    "name": "ipython",
    "version": 3
   },
   "file_extension": ".py",
   "mimetype": "text/x-python",
   "name": "python",
   "nbconvert_exporter": "python",
   "pygments_lexer": "ipython3",
   "version": "3.8.5"
  }
 },
 "nbformat": 4,
 "nbformat_minor": 4
}
